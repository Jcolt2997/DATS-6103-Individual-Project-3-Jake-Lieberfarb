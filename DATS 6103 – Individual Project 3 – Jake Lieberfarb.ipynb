{
 "cells": [
  {
   "cell_type": "markdown",
   "metadata": {},
   "source": [
    "# An Assessment of Health Care Plan Types on ACHP members and Social Risk Factors. By Jake Lieberfarb"
   ]
  },
  {
   "cell_type": "markdown",
   "metadata": {},
   "source": [
    "The Alliance of Community Health Plans (ACHP) is an advocacy and health care firm located in Washington, D.C. ACHP represents 23 healthcare providers around the US. An analysis was conducted on the types of healthcare plan types available in the US and for ACHP members. Plan types use a system of ratings called \"Stars\" to evaluate 9 overall measures and 46 different quality measures.Each quality measure is given a rating from 1-5 with 5 being the highest. These ratings are known as \"Star ratings\". They measure the experiences Medicare beneficiaries have with their healthcare system and health plan. The 46 quality measures are broken down into four groups. For \"HD\" there are five criteria that rate the overall healthcare experience. There are four \"DD\" rates the overall drug availability. For example, \"DD4\" measures 'Drug Safety and Accuracy of Drug Pricing' of a plan. There are 32 \"C\" rates which measure the clinical aspect of a plan. C03 refers to the availabiliyt of an individual to get the annual flu vaccine. Finally, there are 14 \"D\" ratings which measures drug availabilities in a plan. All of this information was obtained from the Center for Medicare & Medicaid Services (CMS). [Monthly Enrollment by Plan](https://www.cms.gov/Research-Statistics-Data-and-Systems/Statistics-Trends-and-Reports/MCRAdvPartDEnrolData/Monthly-Enrollment-by-Plan) contains Medicare enrollment by plan contract and plan type. Next, the [2021 Star Ratings Data Table (Oct 08 2020) (ZIP)](https://www.cms.gov/Medicare/Prescription-Drug-Coverage/PrescriptionDrugCovGenIn/PerformanceData) was included in the analysis as it contains the 9 overall and 46 measure ratings by plan contract. The [Monthly MA Enrollment by State/County/Contract](https://www.cms.gov/Research-Statistics-Data-and-Systems/Statistics-Trends-and-Reports/MCRAdvPartDEnrolData/Monthly-MA-Enrollment-by-State-County-Contract) was included in the analysis as it contains Medicare enrollment by plan contract and county (FIPS code). The months of October and November were selected to see types of contracts added per month. These files were merged for all plans in the US and ACHP member plans. Finally, social risk factor data (% uninsured, % unemployed, or % Fair or Poor Health) was included on the county level from [Countyhealthrankings.org](https://www.countyhealthrankings.org/explore-health-rankings/rankings-data-documentation) to see if any ACHP members are providing plans for areas with high social risk factors."
   ]
  },
  {
   "cell_type": "code",
   "execution_count": null,
   "metadata": {},
   "outputs": [],
   "source": [
    "#import necessary modules \n",
    "import pandas as pd\n",
    "from IPython.display import display\n",
    "import numpy as np\n",
    "import plotly\n",
    "import chart_studio.plotly as py\n",
    "import plotly.graph_objects as go\n",
    "import plotly.figure_factory as ff\n",
    "import warnings\n",
    "warnings.filterwarnings(\"ignore\")"
   ]
  },
  {
   "cell_type": "code",
   "execution_count": null,
   "metadata": {},
   "outputs": [],
   "source": [
    "#import all files\n",
    "#some files could not be read correctly so included to include 'encoding='cp1252'' for file to be properly imported\n",
    "mr = pd.read_csv(\"Monthly_Report_By_Plan_2020_10.csv\",index_col=0, encoding='cp1252')\n",
    "ds = pd.read_csv(\"2021 Star Ratings Data Table - Domain Stars (Oct 08 2020).csv\",index_col=0, encoding='cp1252')\n",
    "ms = pd.read_csv(\"2021 Star Ratings Data Table - Measure Stars (Oct 08 2020).csv\",index_col=0, encoding='cp1252')\n",
    "ms.index.names = [\"Contract Number\"]\n",
    "sr= pd.read_csv(\"2021 Star Ratings Data Table - Summary Rating (Oct 08 2020).csv\",index_col=0, encoding='cp1252')\n",
    "scc= pd.read_csv(\"SCC_Enrollment_MA_Alt_2020_10.csv\",index_col=2)\n",
    "scc.index.names = [\"Contract Number\"]\n",
    "scc2= pd.read_csv(\"SCC_Enrollment_MA_Alt_2020_11.csv\",index_col=2)\n",
    "scc2.index.names = [\"Contract Number\"]\n",
    "CH = pd.read_excel(\"2020 County Health Rankings Data - v2.xlsx\", sheet_name= 'Ranked Measure Data')\n",
    "CH.to_csv (\"2020 County Health Rankings Data - v2.csv\", index = None, header=True)\n",
    "#using Plotly with login and key\n",
    "py.sign_in('Jlieberfarb', 'vBRbr33wqGdlxzikJ0Qx')"
   ]
  },
  {
   "cell_type": "code",
   "execution_count": null,
   "metadata": {},
   "outputs": [],
   "source": [
    "#import other files\n",
    "achp0= pd.read_csv('2021_ACHP_MA_Contract.csv')"
   ]
  },
  {
   "cell_type": "code",
   "execution_count": null,
   "metadata": {},
   "outputs": [],
   "source": [
    "#cleaning the data \n",
    "ds.columns = ds.columns.str.replace(\"'\",\" \")\n",
    "ds.rename(columns= {'HD1: Staying Healthy: Screenings, Tests and Vaccines':'HD1',\n",
    "                  'HD2: Managing Chronic (Long Term) Conditions': 'HD2',\n",
    "                  'HD3: Member Experience with Health Plan': 'HD3',\n",
    "                  'HD4: Member Complaints and Changes in the Health Plan s Performance': 'HD4',\n",
    "                  'HD5: Health Plan Customer Service': 'HD5',\n",
    "                  'DD1: Drug Plan Customer Service': 'DD1',\n",
    "                  'DD2: Member Complaints and Changes in the Drug Plan’s Performance': 'DD2',\n",
    "                  'DD3: Member Experience with the Drug Plan': 'DD3',\n",
    "                  'DD4: Drug Safety and Accuracy of Drug Pricing': 'DD4'}, inplace= True)"
   ]
  },
  {
   "cell_type": "code",
   "execution_count": null,
   "metadata": {},
   "outputs": [],
   "source": [
    "#clean ACHP data \n",
    "achp0.rename(columns={'Contract_ID' :'Contract Number'}, inplace= True)\n",
    "achp1= achp0.drop(['Organization_Name','Organization_Marketing_Name','Parent_Organization','ACHP_Flag'], axis=1)"
   ]
  },
  {
   "cell_type": "code",
   "execution_count": null,
   "metadata": {},
   "outputs": [],
   "source": [
    "#only want ACHP plans for 2020\n",
    "achp= achp1[achp1['Year']==2020]"
   ]
  },
  {
   "cell_type": "code",
   "execution_count": null,
   "metadata": {},
   "outputs": [],
   "source": [
    "#cleanning Measures stars data\n",
    "ms.rename(columns= {\"C01: Breast Cancer Screening\": \"C01\",\n",
    "                    \"C02: Colorectal Cancer Screening\": \"C02\",\n",
    "                    \"C03: Annual Flu Vaccine\": \"C03\", \n",
    "                    \"C04: Improving or Maintaining Physical Health\": \"C04\",\n",
    "                    \"C05: Improving or Maintaining Mental Health\": \"C05\",\n",
    "                    \"C06: Monitoring Physical Activity\": \"C06\",\n",
    "                    \"C07: Adult BMI Assessment\": \"C07\", \n",
    "                    \"C08: Special Needs Plan (SNP) Care Management\": \"C08\",\n",
    "                    \"C09: Care for Older Adults – Medication Review\": \"C09\",\n",
    "                    \"C10: Care for Older Adults – Functional Status Assessment\": \"C10\", \n",
    "                    \"C11: Care for Older Adults – Pain Assessment\": \"C11\",\n",
    "                    \"C12: Osteoporosis Management in Women who had a Fracture\": \"C12\",\n",
    "                    \"C13: Diabetes Care – Eye Exam\": \"C13\", \n",
    "                    \"C14: Diabetes Care – Kidney Disease Monitoring\": \"C14\",\n",
    "                    \"C15: Diabetes Care – Blood Sugar Controlled\":  \"C15\",                   \n",
    "                    \"C16: Rheumatoid Arthritis Management\": \"C16\", \n",
    "                    \"C17: Reducing the Risk of Falling\": \"C17\",\n",
    "                    \"C18: Improving Bladder Control\": \"C18\",\n",
    "                    \"C19: Medication Reconciliation Post-Discharge\": \"C19\", \n",
    "                    \"C20: Statin Therapy for Patients with Cardiovascular Disease\": \"C20\",\n",
    "                    \"C21: Getting Needed Care\": \"C21\",                   \n",
    "                    \"C22: Getting Appointments and Care Quickly\": \"C22\", \n",
    "                    \"C23: Customer Service\": \"C23\",\n",
    "                    \"C24: Rating of Health Care Quality\": \"C24\",\n",
    "                    \"C25: Rating of Health Plan\": \"C25\", \n",
    "                    \"C26: Care Coordination\": \"C26\",\n",
    "                    \"C27: Complaints about the Health Plan\": \"C27\",                   \n",
    "                    \"C28: Members Choosing to Leave the Plan\": \"C28\", \n",
    "                    \"C29: Health Plan Quality Improvement\": \"C29\",\n",
    "                    \"C30: Plan Makes Timely Decisions about Appeals\": \"C30\",                   \n",
    "                    \"C31: Reviewing Appeals Decisions\": \"C31\", \n",
    "                    \"C32: Call Center – Foreign Language Interpreter and TTY Availability\": \"C32\",\n",
    "                    \"D01: Call Center – Foreign Language Interpreter and TTY Availability\": \"D01\",                   \n",
    "                    \"D02: Appeals Auto–Forward\": \"D02\", \n",
    "                    \"D03: Appeals Upheld\": \"D03\",\n",
    "                    \"D04: Complaints about the Drug Plan\": \"D04\",                   \n",
    "                    \"D05: Members Choosing to Leave the Plan\": \"D05\", \n",
    "                    \"D06: Drug Plan Quality Improvement\":\"D06\",\n",
    "                    \"D07: Rating of Drug Plan\": \"D07\",                   \n",
    "                    \"D08: Getting Needed Prescription Drugs\": \"D08\",                   \n",
    "                    \"D09: MPF Price Accuracy\": \"D09\", \n",
    "                    \"D10: Medication Adherence for Diabetes Medications\": \"D10\",\n",
    "                    \"D11: Medication Adherence for Hypertension (RAS antagonists)\": \"D11\",                                                                                                                                                      \n",
    "                    \"D12: Medication Adherence for Cholesterol (Statins)\": \"D12\",                   \n",
    "                    \"D13: MTM Program Completion Rate for CMR\": \"D13\", \n",
    "                    \"D14: Statin Use in Persons with Diabetes (SUPD)\": \"D14\",\n",
    "                   }, inplace = True)"
   ]
  },
  {
   "cell_type": "code",
   "execution_count": null,
   "metadata": {},
   "outputs": [],
   "source": [
    "#clean county Health Data and drop unnecissary columns as they would not be useful for graphical analysis\n",
    "ch=CH.drop(['95% CI - Low', '95% CI - High', 'YPLL Rate (AIAN) 95% CI - Low',\n",
    "                          'YPLL Rate (AIAN) 95% CI - High','YPLL Rate (Asian) 95% CI - Low',\n",
    "                          'YPLL Rate (Asian) 95% CI - High', 'YPLL Rate (Black) 95% CI - Low',\n",
    "                          'YPLL Rate (Black) 95% CI - High', 'YPLL Rate (Hispanic) 95% CI - Low',\n",
    "                          'YPLL Rate (Hispanic) 95% CI - High','95% CI - Low.1',\n",
    "                          '95% CI - High.1','Quartile.1','95% CI - Low.2', 'Quartile.2',\n",
    "                          '95% CI - Low.3', '95% CI - High.3','Quartile.3','Unreliable',\n",
    "                          '95% CI - Low.4','95% CI - High.4', 'Quartile.4', '% LBW (AIAN) 95% CI - Low',\n",
    "                          '% LBW (AIAN) 95% CI - High', '% LBW (Asian) 95% CI - Low', \n",
    "                           '% LBW (Asian) 95% CI - High', '% LBW (Black) 95% CI - Low',\n",
    "                          '% LBW (Black) 95% CI - High', 'YPLL Rate (White) 95% CI - Low',\n",
    "                          'YPLL Rate (White) 95% CI - High', '95% CI - High.2',\n",
    "                           '% LBW (Hispanic) 95% CI - Low', '% LBW (Hispanic) 95% CI - High',\n",
    "                           '% LBW (White) 95% CI - Low', '% LBW (White) 95% CI - High',\n",
    "                           '95% CI - Low.5', '95% CI - High.5', 'Quartile.5', '95% CI - Low.6',\n",
    "                           '95% CI - High.6', 'Quartile.6', 'Quartile.7', '95% CI - Low.7',\n",
    "                           '95% CI - High.7', 'Quartile.8','Quartile.9', '95% CI - Low.8',\n",
    "                           '95% CI - High.8', 'Quartile.10', '95% CI - Low.9', '95% CI - High.9',\n",
    "                           'Quartile.11', 'Quartile.12', '95% CI - Low.10', '95% CI - High.10',\n",
    "                           'Quartile.13', 'Teen Birth Rate (AIAN) 95% CI - Low', \n",
    "                           'Teen Birth Rate (AIAN) 95% CI - High','Teen Birth Rate (Asian) 95% CI - Low',\n",
    "                           'Teen Birth Rate (Asian) 95% CI - High', 'Teen Birth Rate (Black) 95% CI - Low',\n",
    "                           'Teen Birth Rate (Black) 95% CI - High', 'Teen Birth Rate (Hispanic) 95% CI - Low',\n",
    "                           'Teen Birth Rate (Hispanic) 95% CI - High', 'Teen Birth Rate (White) 95% CI - Low',\n",
    "                           'Teen Birth Rate (White) 95% CI - High', '95% CI - Low.11', '95% CI - High.11',\n",
    "                           'Quartile.14', 'Quartile.15', 'Quartile.16', 'Quartile.17', 'Quartile.18', \n",
    "                           'Quartile.19', 'Quartile.20', 'Quartile.21', '95% CI - Low.12', '95% CI - High.12',\n",
    "                           'Quartile.22', 'Quartile.23', '95% CI - Low.13', '95% CI - High.13', 'Quartile.24',\n",
    "                           'Quartile.25', '95% CI - Low.14', '95% CI - High.14', 'Quartile.26', 'Quartile.27',\n",
    "                           'Quartile.28', '95% CI - Low.15', '95% CI - High.15',\n",
    "                           'Quartile.29', 'Injury Death Rate (AIAN) 95% CI - Low',\n",
    "                           'Injury Death Rate (AIAN) 95% CI - High',\n",
    "                           'Injury Death Rate (Asian) 95% CI - Low',\n",
    "                           'Injury Death Rate (Asian) 95% CI - High',\n",
    "                           'Injury Death Rate (Black) 95% CI - Low',\n",
    "                           'Injury Death Rate (Black) 95% CI - High', 'Quartile',\n",
    "                           'Injury Death Rate (Hispanic) 95% CI - Low', '95% CI - High.16',\n",
    "                           'Injury Death Rate (Hispanic) 95% CI - High', '95% CI - Low.16',\n",
    "                           'Injury Death Rate (White) 95% CI - Low', 'Quartile.31',\n",
    "                           'Injury Death Rate (White) 95% CI - High', 'Quartile.30',\n",
    "                           'Severe Housing Cost Burden 95% CI - Low', 'Severe Housing Cost Burden 95% CI - High',\n",
    "                           'Overcrowding 95% CI - Low', 'Overcrowding 95% CI - High',\n",
    "                           'Inadequate Facilities 95% CI - Low', 'Inadequate Facilities 95% CI - High',\n",
    "                           'Quartile.32', '95% CI - Low.17', '95% CI - High.17', 'Quartile.33', \n",
    "                           '% Drive Alone (AIAN) 95% CI - Low', '% Drive Alone (AIAN) 95% CI - High',\n",
    "                           '% Drive Alone (Asian) 95% CI - Low', '% Drive Alone (Asian) 95% CI - High',\n",
    "                           '% Drive Alone (Black) 95% CI - Low', '% Drive Alone (Black) 95% CI - High',\n",
    "                           '% Drive Alone (Hispanic) 95% CI - Low', '% Drive Alone (Hispanic) 95% CI - High',\n",
    "                           '% Drive Alone (White) 95% CI - Low', '% Drive Alone (White) 95% CI - High',\n",
    "                           '95% CI - Low.18','95% CI - High.18','Quartile.34',\n",
    "                           'YPLL Rate (AIAN)','YPLL Rate (Asian)','YPLL Rate (Black)','YPLL Rate (Hispanic)',\n",
    "                           'YPLL Rate (White)','% Drive Alone (AIAN)','% Drive Alone (Asian)',\n",
    "                           '% Drive Alone (Black)', '% Drive Alone (Hispanic)', '% Drive Alone (White)',\n",
    "                           '% LBW (AIAN)', '% LBW (Asian)', '% LBW (Black)', '% LBW (Hispanic)',\n",
    "                           'Teen Birth Rate (AIAN)', 'Teen Birth Rate (Asian)', 'Teen Birth Rate (Black)',\n",
    "                           'Teen Birth Rate (Hispanic)', 'Teen Birth Rate (White)',\n",
    "                           'Preventable Hosp. Rate (AIAN)', 'Preventable Hosp. Rate (Asian)',\n",
    "                           'Preventable Hosp. Rate (Black)', 'Preventable Hosp. Rate (Hispanic)',\n",
    "                           'Preventable Hosp. Rate (White)', '% Screened (AIAN)', '% Screened (Asian)',\n",
    "                           '% Screened (Black)', '% Screened (Hispanic)', '% Screened (White)',\n",
    "                           '% Vaccinated (AIAN)', '% Vaccinated (Asian)', '% Vaccinated (Black)',\n",
    "                           '% Vaccinated (Hispanic)', '% Vaccinated (White)', '% Children in Poverty (AIAN)',\n",
    "                           '% Children in Poverty (Asian)', '% Children in Poverty (Black)',\n",
    "                           '% Children in Poverty (Hispanic)', '% Children in Poverty (White)',\n",
    "                           '80th Percentile Income', '20th Percentile Income','Injury Death Rate (AIAN)',\n",
    "                           'Injury Death Rate (Asian)', 'Injury Death Rate (Black)',  \n",
    "                           'Injury Death Rate (Hispanic)', 'Injury Death Rate (White)','Average Daily PM2.5',\n",
    "                           '% LBW (White)'], axis=1)\n",
    "pd.set_option('display.max_columns', 200)"
   ]
  },
  {
   "cell_type": "code",
   "execution_count": null,
   "metadata": {},
   "outputs": [],
   "source": [
    "#reset indecies so can merge dataframes later\n",
    "mr0= mr.reset_index()\n",
    "ms0= ms.reset_index()\n",
    "ds0= ds.reset_index()\n",
    "sr0= sr.reset_index()\n",
    "scc= scc.reset_index()\n",
    "scc2= scc2.reset_index()"
   ]
  },
  {
   "cell_type": "code",
   "execution_count": null,
   "metadata": {},
   "outputs": [],
   "source": [
    "#realized dataframes were not merging bc there was a blank space in Contract Number for dataframes\n",
    "sr0['Contract Number'].iloc[0]"
   ]
  },
  {
   "cell_type": "code",
   "execution_count": null,
   "metadata": {},
   "outputs": [],
   "source": [
    "#removes all leading and trailing white spaces form 'Contract Number'\n",
    "ds0['Contract Number']= ds0['Contract Number'].str.strip()\n",
    "ms0['Contract Number']= ms0['Contract Number'].str.strip()\n",
    "sr0['Contract Number']= sr0['Contract Number'].str.strip()"
   ]
  },
  {
   "cell_type": "code",
   "execution_count": null,
   "metadata": {},
   "outputs": [],
   "source": [
    "#merge domain starts with monthly report \n",
    "mr1= mr0.merge(ds0[['Contract Number', 'HD1','HD2', 'HD3', 'HD4', 'HD5', 'DD1', 'DD2', 'DD3', 'DD4']], \n",
    "              on= 'Contract Number')"
   ]
  },
  {
   "cell_type": "code",
   "execution_count": null,
   "metadata": {},
   "outputs": [],
   "source": [
    "#add Measure Stars data to monthly report\n",
    "mr2= mr1.merge(ms0[['Contract Number','C01','C02','C03','C04','C05','C06','C07','C08','C09','C10','C11','C12','C13','C14','C15',\n",
    "                   'C16','C17','C18','C19','C20','C21','C22','C23','C24','C25','C26','C27','C28','C29','C30',\n",
    "                   'C31','C32','D01','D02','D03','D04','D05','D06','D07','D08','D09','D10','D11','D12','D13',\n",
    "                   'D14']], on= 'Contract Number')\n",
    "pd.set_option('display.max_columns', 100)"
   ]
  },
  {
   "cell_type": "code",
   "execution_count": null,
   "metadata": {},
   "outputs": [],
   "source": [
    "#add summary rating to monthly report\n",
    "mr3=mr2.merge(sr0[['Contract Number','SNP','2018 Disaster %','2019 Disaster %', '2021 Part C Summary', \n",
    "                  '2021 Part D Summary', '2021 Overall']], on= 'Contract Number')\n",
    "pd.set_option('display.max_columns', 100)"
   ]
  },
  {
   "cell_type": "code",
   "execution_count": null,
   "metadata": {},
   "outputs": [],
   "source": [
    "#drop repetative columns for merge later on\n",
    "mr4=mr3.drop(['Organization Name', 'Organization Type'], axis=1)"
   ]
  },
  {
   "cell_type": "code",
   "execution_count": null,
   "metadata": {},
   "outputs": [],
   "source": [
    "mr_cal= mr4.drop(['Offers Part D',\n",
    "                  'Organization Marketing Name','Parent Organization',\n",
    "                  'Contract Effective Date','SNP','2018 Disaster %',\n",
    "                  '2019 Disaster %','2021 Part C Summary', '2021 Part D Summary'], axis=1)\n",
    "\n",
    "#merge for 2020 October (scc) and 2020 November (scc2)\n",
    "##October\n",
    "mr_cal1= mr_cal.merge(scc[['Contract Number', 'County', 'State', 'Enrolled']], how='left', on= 'Contract Number')\n",
    "#drop duplicate contract numbers \n",
    "mr_cal1= mr_cal1.drop_duplicates(\"Contract Number\", keep='first')\n",
    "##November\n",
    "mr_cal2= mr_cal.merge(scc2[['Contract Number', 'County', 'State', 'Enrolled']], how='left', on= 'Contract Number')\n",
    "#drop duplicate contract numbers \n",
    "mr_cal2= mr_cal2.drop_duplicates(\"Contract Number\", keep='first')"
   ]
  },
  {
   "cell_type": "markdown",
   "metadata": {},
   "source": [
    "# Overview of types of plans and programs offered in America"
   ]
  },
  {
   "cell_type": "markdown",
   "metadata": {},
   "source": [
    "Pie and bar charts were constructed to provide an overview of the types of contracts offered in America. Two Pie charts with one for October and one for November were constructed for the number of enrollees by each plan type. Next, a bar chart for the count of contract enrollments was made to see the types of plans offered in each state. The average star ratings and percentage of 4 and 5 ratings were calculated by plan type for the overall and quality measures. This was done to provide a hollistic understanding of what the focus is clinical and drug wise for each plan type offered. "
   ]
  },
  {
   "cell_type": "code",
   "execution_count": null,
   "metadata": {},
   "outputs": [],
   "source": [
    "#preping pie chart data\n",
    "#remove plan type which have no enrollment data\n",
    "#mr_cal1=mr_cal1[mr_cal1['Enrollment']!='*']\n",
    "mr_cal1['Enrolled']=pd.to_numeric(mr_cal1['Enrolled'])\n",
    "pie_data = mr_cal1.groupby([\"Plan Type\"], as_index=False).agg({'Enrolled': 'sum'})"
   ]
  },
  {
   "cell_type": "code",
   "execution_count": null,
   "metadata": {},
   "outputs": [],
   "source": [
    "pie_data.head(10).sort_values(by='Enrolled', ascending=False)"
   ]
  },
  {
   "cell_type": "code",
   "execution_count": null,
   "metadata": {},
   "outputs": [],
   "source": [
    "#NOTE\n",
    "#pie chart for plan types October \n",
    "fig = go.Figure()\n",
    "\n",
    "fig.add_trace(\n",
    "            go.Pie(labels=pie_data['Plan Type'], \n",
    "                    values= pie_data['Enrolled'], \n",
    "                    hoverinfo='label+percent+value',\n",
    "                    textinfo= 'percent'))\n",
    "#puts the text inside each slice of the pie \n",
    "fig.update_traces(textposition='inside')\n",
    "#minsize gives you the minumum size that a percentage would appear in the pie \n",
    "#if percentage is too small it won't be visible, you have to hover over it\n",
    "fig.update_layout(uniformtext_minsize=10, title = 'October 2020 New Contracts by Plan Types', height = 600)\n",
    "fig.show()"
   ]
  },
  {
   "cell_type": "code",
   "execution_count": null,
   "metadata": {},
   "outputs": [],
   "source": [
    "mr_cal2['Enrolled']=pd.to_numeric(mr_cal1['Enrolled'])\n",
    "pie_data2 = mr_cal2.groupby([\"Plan Type\"], as_index=False).agg({'Enrolled': 'sum'})\n",
    "pie_data2.head(10).sort_values(by='Enrolled', ascending=False)"
   ]
  },
  {
   "cell_type": "code",
   "execution_count": null,
   "metadata": {},
   "outputs": [],
   "source": [
    "#pie chart for plan types November\n",
    "fig = go.Figure()\n",
    "\n",
    "fig.add_trace(\n",
    "            go.Pie(labels=mr_cal2['Plan Type'], \n",
    "                    values= mr_cal2['Enrolled'], \n",
    "                    hoverinfo='label+percent+value',\n",
    "                    textinfo= 'percent'))\n",
    "\n",
    "fig.update_traces(textposition='inside')\n",
    "fig.update_layout(uniformtext_minsize=10, title = 'November 2020 New Contracts by Plan Types', height = 600)\n",
    "fig.show()"
   ]
  },
  {
   "cell_type": "code",
   "execution_count": null,
   "metadata": {},
   "outputs": [],
   "source": [
    "# create empty list\n",
    "integer_check = []\n",
    "# columns that are integers in dataframe\n",
    "Col_name = ['HD1', 'HD2', 'HD3', 'HD4', 'HD5',\n",
    "       'DD1', 'DD2', 'DD3', 'DD4', 'C01', 'C02', 'C03', 'C04', 'C05', 'C06',\n",
    "       'C07', 'C08', 'C09', 'C10', 'C11', 'C12', 'C13', 'C14', 'C15', 'C16',\n",
    "       'C17', 'C18', 'C19', 'C20', 'C21', 'C22', 'C23', 'C24', 'C25', 'C26',\n",
    "       'C27', 'C28', 'C29', 'C30', 'C31', 'C32', 'D01', 'D02', 'D03', 'D04',\n",
    "       'D05', 'D06', 'D07', 'D08', 'D09', 'D10', 'D11', 'D12', 'D13', 'D14', '2021 Overall']"
   ]
  },
  {
   "cell_type": "code",
   "execution_count": null,
   "metadata": {},
   "outputs": [],
   "source": [
    "#make sure all columns are integers\n",
    "#coerce is included to set any invalid parsings to NAN in the dataframe\n",
    "for col in Col_name:\n",
    "    mr_cal[col] = pd.to_numeric(mr_cal[col],errors=\"coerce\")"
   ]
  },
  {
   "cell_type": "code",
   "execution_count": null,
   "metadata": {
    "scrolled": true
   },
   "outputs": [],
   "source": [
    "#only want the average of domains\n",
    "avg=mr_cal.drop(['Plan ID'], axis=1)[:-1]\n",
    "#need to create custom average so function will avoid null values\n",
    "def custom_mean(df): \n",
    "    return df.mean(skipna=True)\n",
    "avg=avg.groupby([\"Plan Type\"], as_index=False).agg(custom_mean)\n",
    "#make overall avererge of each plan type \n",
    "avg['row average']=avg.mean(axis=1)"
   ]
  },
  {
   "cell_type": "code",
   "execution_count": null,
   "metadata": {},
   "outputs": [],
   "source": [
    "bar_data= avg.copy()\n",
    "#only want to include HD,C, and D data to be analyzed\n",
    "columns = list(bar_data.columns)[1:]\n",
    "\n",
    "fig = go.Figure()\n",
    "\n",
    "for col in columns:\n",
    "    fig.add_trace(\n",
    "                go.Bar(x=bar_data.sort_values(\n",
    "                        by= col, ascending = False)['Plan Type'],\n",
    "                       y= bar_data.sort_values(\n",
    "                        by= col, ascending = False)[col], \n",
    "                       visible= False,\n",
    "                      marker_color= 'blue'))\n",
    "\n",
    "buttons= []\n",
    "\n",
    "for i in range(len(columns)):\n",
    "    visible = [False]*len(columns)\n",
    "    if i == 0: \n",
    "        visible[i]= True\n",
    "    else:\n",
    "        visible[i] = True\n",
    "        visible[i-1] = False\n",
    "#creating the dropdown menu     \n",
    "    buttons.append(dict(label = columns[i],\n",
    "                        method = 'update',           \n",
    "                        args = [{'visible': visible}]))\n",
    "#updating the menu so it has the buttoms      \n",
    "fig.update_layout(updatemenus=list([\n",
    "    dict(buttons = buttons)]))\n",
    "\n",
    "fig.update_layout(title = 'Average Rating of Plan Types by Quality Measures ',\n",
    "                 height = 540)\n",
    "fig.show()"
   ]
  },
  {
   "cell_type": "code",
   "execution_count": null,
   "metadata": {},
   "outputs": [],
   "source": [
    "#find percentage of each plan that has 4 5 stars for each plan\n",
    "datf=pd.DataFrame()\n",
    "for name in Col_name:\n",
    "    #creates a values counts dataframe based on the given column from HD1 through\n",
    "    df=mr_cal[name].value_counts().reset_index()\n",
    "    #adds all \n",
    "    datf=pd.concat([datf,df], ignore_index=True, axis=0)"
   ]
  },
  {
   "cell_type": "code",
   "execution_count": null,
   "metadata": {},
   "outputs": [],
   "source": [
    "#counting number of quality measures by plan type\n",
    "def custom_count(df): \n",
    "    return df.count()\n",
    "mr_cal.groupby([\"Plan Type\"]).agg(custom_count)"
   ]
  },
  {
   "cell_type": "code",
   "execution_count": null,
   "metadata": {},
   "outputs": [],
   "source": [
    "#creates dataframe and goes through each column by plan types and counts the number of each star\n",
    "masterdf=pd.DataFrame()\n",
    "#looping through all unique plan types\n",
    "for plan in mr_cal['Plan Type'].unique():\n",
    "    #creating datafrome with values only for a specific plan type\n",
    "    df=mr_cal[mr_cal['Plan Type']== plan]\n",
    "    #loop through all the columns\n",
    "    for name in Col_name:\n",
    "        #for each column in the dataframe, it goes through and creates a value counts\n",
    "        df1=df[name].value_counts().reset_index()\n",
    "        #creating a new column in the dataframe that has the plan type\n",
    "        df1['Plan Type']= plan\n",
    "        # creating a new column in the dataframe that has the original column name (HD1, HD2) as its value\n",
    "        df1['col']= name\n",
    "        #changes the column names to what the columns are suppose to be\n",
    "        df1.columns=['Stars','Count','Plan Type','Column_Name']\n",
    "        #stacks all relevant data\n",
    "        masterdf=pd.concat([masterdf, df1])\n",
    "#removes any NAN values\n",
    "masterdf=masterdf.fillna(0)"
   ]
  },
  {
   "cell_type": "code",
   "execution_count": null,
   "metadata": {},
   "outputs": [],
   "source": [
    "#goes through all plan types and their quality measures and counts numbers of 4s and 5s\n",
    "percents=[]\n",
    "#only want unique plan types\n",
    "for plan in masterdf['Plan Type'].unique():\n",
    "    #selects data from masterdf by plan type\n",
    "    df=masterdf[masterdf['Plan Type']== plan]\n",
    "    #loops through all the unique column names\n",
    "    for name in df['Column_Name'].unique():\n",
    "        #matches one column name at a time with the name it is looping through\n",
    "        df2=df[df['Column_Name']== name]\n",
    "        #selecting the total number of stars\n",
    "        total= df2[\"Count\"].sum()\n",
    "        #counts the number of 4s and 5s\n",
    "        and4_5= df2[df2['Stars']>= 4]['Count'].sum()\n",
    "        #calculates the percent of 4s and 5s\n",
    "        percent= and4_5/total*100 \n",
    "        #creates a tuple of all relevant info\n",
    "        percents.append((plan, name, percent, and4_5))\n",
    "#puts all data in a dataframe\n",
    "perc_df=pd.DataFrame(percents,columns=['Plan Type', 'Column_Name', 'Percentage', 'count'])"
   ]
  },
  {
   "cell_type": "code",
   "execution_count": null,
   "metadata": {},
   "outputs": [],
   "source": [
    "df2.head()"
   ]
  },
  {
   "cell_type": "code",
   "execution_count": null,
   "metadata": {
    "scrolled": false
   },
   "outputs": [],
   "source": [
    "bar_data= perc_df.copy()\n",
    "\n",
    "columns = list(perc_df['Plan Type'].unique())\n",
    "\n",
    "fig = go.Figure()\n",
    "\n",
    "for col in columns:\n",
    "    fig.add_trace(\n",
    "                go.Bar(x=bar_data[bar_data['Plan Type']==col].sort_values(\n",
    "                        by= 'Percentage', ascending = False)['Column_Name'],\n",
    "                       y= bar_data[bar_data['Plan Type']==col].sort_values(\n",
    "                        by= 'Percentage', ascending = False)['Percentage'], \n",
    "                       visible= False,\n",
    "                      marker_color= 'purple'))\n",
    "\n",
    "buttons= []\n",
    "\n",
    "for i in range(len(columns)):\n",
    "    visible = [False]*len(columns)\n",
    "    if i == 0: \n",
    "        visible[i]= True\n",
    "    else:\n",
    "        visible[i] = True\n",
    "        visible[i-1] = False\n",
    "#creating the dropdown menu     \n",
    "    buttons.append(dict(label = columns[i],\n",
    "                        method = 'update',           \n",
    "                        args = [{'visible': visible}]))\n",
    "#updating the menu so it has the buttoms      \n",
    "fig.update_layout(updatemenus=list([\n",
    "    dict(buttons = buttons)]))\n",
    "\n",
    "fig.update_layout(title = 'Percentage of 4 and 5 Star Ratings per Plan',\n",
    "                 height = 540)\n",
    "fig.show()"
   ]
  },
  {
   "cell_type": "code",
   "execution_count": null,
   "metadata": {},
   "outputs": [],
   "source": [
    "#drop NA values \n",
    "mr_cal1= mr_cal1.dropna(axis=0, subset=['State'])"
   ]
  },
  {
   "cell_type": "markdown",
   "metadata": {},
   "source": [
    "There were significanlty more contracts added in October than in November. However, in both cases, HMO was the most common type. When looking at the highest average rating of plan types by Quality Measure, HMOs and 1876 cost appear to have high ratings for each quality measure. However, there is still a wide variety of plan types that offer different levels are ratings. When looking at the percent of fours and fives star ratings by plan type,  HMOs, Local PPOs, and Regional PPOs offer the wides range of coverage and overall have a majority of stars that are fours and fives. 1876 Cost has the most quality scores that are only fours and fives but still does not have as much variety as HMOs and local and Regional PPOs.  HMO/HMOPOS has the least number of quality measure offered as part of its plan type and least number of fours and fives ratings. "
   ]
  },
  {
   "cell_type": "markdown",
   "metadata": {},
   "source": [
    "# Overview of types of ACHP plans and programs offered "
   ]
  },
  {
   "cell_type": "markdown",
   "metadata": {},
   "source": [
    "Next, an overview of the types of health care contracts offered by ACHP members was constructed to understand which plan types are most common amongst ACHP members and if these plan types are focusing on specific quality measures. Pie and bar charts were constructed to analyze the data. A pie chart was constructed to show the count of plan types offered by ACHP members. Another pie chart was included to show the breakdown of which plan types each member offers. bar charts were included to show the total count of contracts offered by ACHP members, the average of quality scores by member and percent of 4s and 5s for quality scores by member."
   ]
  },
  {
   "cell_type": "code",
   "execution_count": null,
   "metadata": {},
   "outputs": [],
   "source": [
    "ACHP= mr_cal2.merge(achp, on= 'Contract Number')\n",
    "#need to remove any duplicate contract numbers\n",
    "ACHP.drop_duplicates(\"Contract Number\", keep='first', inplace=True)"
   ]
  },
  {
   "cell_type": "code",
   "execution_count": null,
   "metadata": {},
   "outputs": [],
   "source": [
    "mr_cal2"
   ]
  },
  {
   "cell_type": "code",
   "execution_count": null,
   "metadata": {},
   "outputs": [],
   "source": [
    "pie_data3 = ACHP.groupby([\"Plan Type\"], as_index=False).agg({'Plan ID': 'count'})"
   ]
  },
  {
   "cell_type": "code",
   "execution_count": null,
   "metadata": {},
   "outputs": [],
   "source": [
    "pie_data3.head(10).sort_values(by='Plan ID', ascending=False)"
   ]
  },
  {
   "cell_type": "code",
   "execution_count": null,
   "metadata": {},
   "outputs": [],
   "source": [
    "#pie chart for ACHP plan types  \n",
    "fig = go.Figure()\n",
    "\n",
    "fig.add_trace(go.Pie(labels=pie_data3['Plan Type'], \n",
    "                       values= pie_data3['Plan ID'], \n",
    "                       hoverinfo='label+percent+value',\n",
    "                       textinfo= 'percent'))\n",
    "\n",
    "fig.update_traces(textposition='inside')\n",
    "fig.update_layout(uniformtext_minsize=10, title = 'Types of Contracts Offered by ACHP Members', height = 600)\n",
    "fig.show()"
   ]
  },
  {
   "cell_type": "code",
   "execution_count": null,
   "metadata": {},
   "outputs": [],
   "source": [
    "ACHP.head()"
   ]
  },
  {
   "cell_type": "code",
   "execution_count": null,
   "metadata": {},
   "outputs": [],
   "source": [
    "#FIX pie chart to show breakdown of Plan Types by rollout \n",
    "#pie chart types of plans offered by ACHP members\n",
    "rollups = list(ACHP['Rollup'].unique()) \n",
    "\n",
    "ACHP_bar= ACHP.groupby(['Rollup', 'Plan Type'], as_index=False).agg({'Plan ID': 'count'})\n",
    "\n",
    "fig = go.Figure()\n",
    "\n",
    "for rollup in rollups:\n",
    "    fig.add_trace(\n",
    "                go.Pie(labels=ACHP_bar[ACHP_bar['Rollup'] == rollup]['Plan Type'], \n",
    "                       values= ACHP_bar[ACHP_bar['Rollup'] == rollup]['Plan ID'], \n",
    "                       hoverinfo='label+percent+value',\n",
    "                       textinfo= 'none',\n",
    "                       visible= False))\n",
    "\n",
    "    \n",
    "buttons= []\n",
    "\n",
    "for i in range(len(rollups)):\n",
    "    visible = [False]*len(rollups)\n",
    "    if i == 0: \n",
    "        visible[i]= True\n",
    "    else:\n",
    "        visible[i] = True\n",
    "        visible[i-1] = False\n",
    "\n",
    "    buttons.append(dict(label = rollups[i],\n",
    "                        method = 'update',           \n",
    "                        args = [{'visible': visible}]))\n",
    "  \n",
    "fig.update_layout(updatemenus=list([\n",
    "    dict(buttons = buttons)]))\n",
    "\n",
    "fig.update_layout(title = 'Plan Types Offered by ACHP Members',\n",
    "                 height = 600)\n",
    "fig.show()"
   ]
  },
  {
   "cell_type": "code",
   "execution_count": null,
   "metadata": {},
   "outputs": [],
   "source": [
    "#Which ACHP member has the most contracts?\n",
    "ACHP['Enrollment']=pd.to_numeric(ACHP['Enrolled'])\n",
    "bar_chart4 = ACHP.groupby([\"Rollup\"], as_index=False).agg({'Plan ID': 'count'})"
   ]
  },
  {
   "cell_type": "code",
   "execution_count": null,
   "metadata": {},
   "outputs": [],
   "source": [
    "fig = go.Figure()\n",
    "fig.add_trace( go.Bar(x= bar_chart4.sort_values(by ='Plan ID', ascending=False)['Rollup'], \n",
    "    y= bar_chart4.sort_values(by ='Plan ID', ascending=False)['Plan ID'], marker_color='Orange'))\n",
    "\n",
    "fig.update_layout(title = 'Count of Total Plan Types Offered by ACHP Member Plans', height = 540)\n",
    "fig.update_xaxes(title_text = \"ACHP Members\")\n",
    "fig.update_yaxes(title_text = \"Count of Plan Types\")"
   ]
  },
  {
   "cell_type": "code",
   "execution_count": null,
   "metadata": {},
   "outputs": [],
   "source": [
    "# create empty list\n",
    "integer_check = []\n",
    "# columns that are integers in dataframe\n",
    "Col_name = ['HD1', 'HD2', 'HD3', 'HD4', 'HD5',\n",
    "       'DD1', 'DD2', 'DD3', 'DD4', 'C01', 'C02', 'C03', 'C04', 'C05', 'C06',\n",
    "       'C07', 'C08', 'C09', 'C10', 'C11', 'C12', 'C13', 'C14', 'C15', 'C16',\n",
    "       'C17', 'C18', 'C19', 'C20', 'C21', 'C22', 'C23', 'C24', 'C25', 'C26',\n",
    "       'C27', 'C28', 'C29', 'C30', 'C31', 'C32', 'D01', 'D02', 'D03', 'D04',\n",
    "       'D05', 'D06', 'D07', 'D08', 'D09', 'D10', 'D11', 'D12', 'D13', 'D14', '2021 Overall']\n",
    "for col in Col_name:\n",
    "    ACHP[col] = pd.to_numeric(ACHP[col],errors=\"coerce\")"
   ]
  },
  {
   "cell_type": "code",
   "execution_count": null,
   "metadata": {},
   "outputs": [],
   "source": [
    "avg2=ACHP.drop(['Plan ID','Plan Name','Enrollment','County','State','Enrolled','Year'], axis=1)"
   ]
  },
  {
   "cell_type": "code",
   "execution_count": null,
   "metadata": {},
   "outputs": [],
   "source": [
    "def custom_mean(df): \n",
    "    return df.mean(skipna=True)\n",
    "avg2=avg2.groupby([\"Rollup\"], as_index=False).agg(custom_mean)\n",
    "avg2['row average']=avg2.mean(axis=1)"
   ]
  },
  {
   "cell_type": "code",
   "execution_count": null,
   "metadata": {},
   "outputs": [],
   "source": [
    "avg2.sort_values(by='row average', ascending=False).head(23)"
   ]
  },
  {
   "cell_type": "code",
   "execution_count": null,
   "metadata": {},
   "outputs": [],
   "source": [
    "#create bar chart of ACHP averages\n",
    "ACHP_bar2= avg2.copy()\n",
    "#only want to include HD,C, and D data to be analyzed\n",
    "columns = list(ACHP_bar2.columns)[1:]\n",
    "\n",
    "fig = go.Figure()\n",
    "\n",
    "for col in columns:\n",
    "    fig.add_trace(\n",
    "                go.Bar(x=ACHP_bar2.sort_values(\n",
    "                        by= col, ascending = False)['Rollup'],\n",
    "                       y= ACHP_bar2.sort_values(\n",
    "                        by= col, ascending = False)[col], \n",
    "                       visible= False,\n",
    "                      marker_color= 'orange'))\n",
    "\n",
    "buttons= []\n",
    "\n",
    "for i in range(len(columns)):\n",
    "    visible = [False]*len(columns)\n",
    "    if i == 0: \n",
    "        visible[i]= True\n",
    "    else:\n",
    "        visible[i] = True\n",
    "        visible[i-1] = False\n",
    "    \n",
    "    buttons.append(dict(label = columns[i],\n",
    "                        method = 'update',           \n",
    "                        args = [{'visible': visible}]))\n",
    "      \n",
    "fig.update_layout(updatemenus=list([\n",
    "    dict(buttons = buttons)]))\n",
    "\n",
    "fig.update_layout(title = 'Average Rating of ACHP Plan Types by Domain ',\n",
    "                 height = 540)\n",
    "fig.show()"
   ]
  },
  {
   "cell_type": "code",
   "execution_count": null,
   "metadata": {},
   "outputs": [],
   "source": [
    "#Overall averages by plan types\n",
    "ACHP_bar2[['Rollup', 'row average']].sort_values(by= 'row average', ascending = False)"
   ]
  },
  {
   "cell_type": "code",
   "execution_count": null,
   "metadata": {},
   "outputs": [],
   "source": [
    "datf=pd.DataFrame()\n",
    "for name in Col_name:\n",
    "    df=mr_cal[name].value_counts().reset_index()\n",
    "    datf=pd.concat([datf,df], ignore_index=True, axis=0)"
   ]
  },
  {
   "cell_type": "code",
   "execution_count": null,
   "metadata": {},
   "outputs": [],
   "source": [
    "def custom_count(df): \n",
    "    return df.count()\n",
    "ACHP.groupby([\"Rollup\"]).agg(custom_count)"
   ]
  },
  {
   "cell_type": "code",
   "execution_count": null,
   "metadata": {},
   "outputs": [],
   "source": [
    "masterdf=pd.DataFrame()\n",
    "for plan in ACHP['Rollup'].unique():\n",
    "    df=ACHP[ACHP['Rollup']== plan]\n",
    "    for name in Col_name:\n",
    "        df1=df[name].value_counts().reset_index()\n",
    "        df1['Rollup']= plan\n",
    "        df1['col']= name\n",
    "        df1.columns=['Stars','Count','Rollup','Column_Name']\n",
    "        masterdf=pd.concat([masterdf, df1])\n",
    "masterdf=masterdf.fillna(0)"
   ]
  },
  {
   "cell_type": "code",
   "execution_count": null,
   "metadata": {},
   "outputs": [],
   "source": [
    "percents=[]\n",
    "for plan in masterdf['Rollup'].unique():\n",
    "    df=masterdf[masterdf['Rollup']== plan]\n",
    "    for name in df['Column_Name'].unique():\n",
    "        df2=df[df['Column_Name']== name]\n",
    "        total= df2[\"Count\"].sum()\n",
    "        and4_5= df2[df2['Stars']>= 4]['Count'].sum()\n",
    "        percent= and4_5/total*100 \n",
    "        percents.append((plan, name, percent, and4_5))\n",
    "perc_df2=pd.DataFrame(percents,columns=['Rollup', 'Column_Name', 'Percentage', 'count'])"
   ]
  },
  {
   "cell_type": "code",
   "execution_count": null,
   "metadata": {},
   "outputs": [],
   "source": [
    "bar_data= perc_df2.copy()\n",
    "\n",
    "columns = list(perc_df2['Rollup'].unique())\n",
    "\n",
    "fig = go.Figure()\n",
    "\n",
    "for col in columns:\n",
    "    fig.add_trace(\n",
    "                go.Bar(x=bar_data[bar_data['Rollup']==col].sort_values(\n",
    "                        by= 'Percentage', ascending = False)['Column_Name'],\n",
    "                       y= bar_data[bar_data['Rollup']==col].sort_values(\n",
    "                        by= 'Percentage', ascending = False)['Percentage'], \n",
    "                       visible= False,\n",
    "                      marker_color= 'orange'))\n",
    "\n",
    "buttons= []\n",
    "\n",
    "for i in range(len(columns)):\n",
    "    visible = [False]*len(columns)\n",
    "    if i == 0: \n",
    "        visible[i]= True\n",
    "    else:\n",
    "        visible[i] = True\n",
    "        visible[i-1] = False\n",
    "#creating the dropdown menu     \n",
    "    buttons.append(dict(label = columns[i],\n",
    "                        method = 'update',           \n",
    "                        args = [{'visible': visible}]))\n",
    "#updating the menu so it has the buttoms      \n",
    "fig.update_layout(updatemenus=list([\n",
    "    dict(buttons = buttons)]))\n",
    "\n",
    "fig.update_layout(title = 'Percentage of 4 and 5 Star Ratings per Plan (ACHP)',\n",
    "                 height = 540)\n",
    "fig.show()"
   ]
  },
  {
   "cell_type": "markdown",
   "metadata": {},
   "source": [
    "The most common plan type offered by ACHP members are HMOs at 36 types followed by 21 PPOS. some plans such as kaiser only offers HMOs. Healthpartners has Local PPOs, 1876 Cost, HMO, and Medicare Prescription Drug Plan. A bar chart of the count of plan types by ACHP member revealed that Healthalliance and Kaiser had the most at seven which was followed by UPMC at five. Overall most ACHP plans offer 2-3 types of contracts. Upon investigating the average of quaity measurements it appears that the ACHP members with the highest 2021 OVerall stars rating are Kaiser at 4.928, CDPHP at 4.75, Martins Point at 4.75, and Health Partners at 4.625. Kaiser and CDPHP has 43 quality measures that were either 4s or 5s. Martins point had 44 quality measure that were either 4s or 5s. CommunityCare and Presbyterian have the lowest 2021 Overall stars rating at 3.5465 and 3.3884, respectivley. CommunityCare and Presbyterian have  21 quality measures of only 4s and 5s.  "
   ]
  },
  {
   "cell_type": "markdown",
   "metadata": {},
   "source": [
    "# State and County Social Risks "
   ]
  },
  {
   "cell_type": "markdown",
   "metadata": {},
   "source": [
    "Next, the social risk scores was explored on the state and county level. The three main risk scores of interest are % Fair or Poor Health, % Uninsured, and % Unemployed. These three risk scores were given the main focus in this analysis as they would be key criteria used in deciding if an ACHP member would want to take on the risk of providing insurance plans in this area. A choropleth map was included of social risk factors by state. A bar chart shows the counties and states with the highest social risk factors. Choropleth maps for the three risk factors was also constructed on the county level. A weighted stars value was constructed by taking the total number of enrollees available in each county and multiplying it by the overall star rating for each county and then summing the results for each county. A choropleth map for weighted stars by county was constructed to see if more urban or rural areas have different weighted stars. These charts are useful in understanding the spread of certain social risk factors such as finding the state with the most unemployed or uninsured. "
   ]
  },
  {
   "cell_type": "code",
   "execution_count": null,
   "metadata": {},
   "outputs": [],
   "source": [
    "#add state code to dataframe ch for choropleth maps \n",
    "state_codes = {\n",
    "    'Pennsylvania': 'PA', 'Florida': 'FL', 'Alaska': 'AK', 'Kentucky': 'KY', \n",
    "    'Hawaii': 'HI', 'Nebraska': 'NE', 'Missouri': 'MO', 'Ohio': 'OH', \n",
    "    'Alabama': 'AL', 'Rhode Island': 'RI', 'South Dakota': 'SD', \n",
    "    'Colorado': 'CO', 'New Jersey': 'NJ', 'Washington': 'WA', \n",
    "    'North Carolina': 'NC', 'New York': 'NY', 'Texas': 'TX',   \n",
    "    'District of Columbia' : 'DC','Mississippi': 'MS', 'Oklahoma': 'OK', \n",
    "    'Delaware': 'DE', 'Minnesota': 'MN', 'Illinois': 'IL', 'Arkansas': 'AR', \n",
    "    'New Mexico': 'NM', 'Indiana': 'IN', 'Maryland': 'MD', 'Louisiana': 'LA', \n",
    "    'Idaho': 'ID', 'Wyoming': 'WY', 'Tennessee': 'TN', 'Arizona': 'AZ', \n",
    "    'Iowa': 'IA', 'Michigan': 'MI', 'Kansas': 'KS', 'Utah': 'UT', \n",
    "    'Virginia': 'VA', 'Oregon': 'OR', 'Connecticut': 'CT', 'Montana': 'MT', \n",
    "    'California': 'CA', 'Massachusetts': 'MA', 'West Virginia': 'WV', \n",
    "    'South Carolina': 'SC', 'New Hampshire': 'NH', 'Wisconsin': 'WI',\n",
    "    'Vermont': 'VT', 'Georgia': 'GA', 'North Dakota': 'ND', \n",
    "    'Nevada': 'NV', 'Maine': 'ME'}\n",
    "\n",
    "statekeys= state_codes.keys()\n",
    "code_values=state_codes.values()\n",
    "state_codes=dict(zip(statekeys,code_values))\n",
    "ch['STATE_CODE'] = ch['State'].map(state_codes)"
   ]
  },
  {
   "cell_type": "code",
   "execution_count": null,
   "metadata": {},
   "outputs": [],
   "source": [
    "#prep data\n",
    "#only have data on state, not the county\n",
    "ch_country= ch[ch['County'].isnull()]\n",
    "#remove overall state info\n",
    "ch_clean=ch[~ch['County'].isnull()]\n",
    "#create column that has both county and state\n",
    "ch_clean['County&State']=ch_clean['County']+ ', ' + ch_clean['State']"
   ]
  },
  {
   "cell_type": "code",
   "execution_count": null,
   "metadata": {},
   "outputs": [],
   "source": [
    "columns= list(ch_country.columns)[3:-1]\n",
    "\n",
    "chor_data= ch_country.copy()\n",
    "\n",
    "fig = go.Figure()\n",
    "\n",
    "for col in columns:\n",
    "    fig.add_trace(\n",
    "            go.Choropleth(\n",
    "                locations=ch_country['STATE_CODE'],\n",
    "                z = ch_country[col], \n",
    "                locationmode = 'USA-states',\n",
    "                text=ch_country['State'],\n",
    "                colorscale = 'Reds',\n",
    "                hoverinfo='location+z',\n",
    "                colorbar_title = '{} by state'.format(col),\n",
    "                visible= False))\n",
    "\n",
    "buttons= []\n",
    "\n",
    "for i in range(len(columns)):\n",
    "    visible = [False]*len(columns)\n",
    "    if i == 0: \n",
    "        visible[i]= True\n",
    "    else:\n",
    "        visible[i] = True\n",
    "        visible[i-1] = False\n",
    "#creating the dropdown menu     \n",
    "    buttons.append(dict(label = columns[i],\n",
    "                        method = 'update',           \n",
    "                        args = [{'visible': visible}]))\n",
    "#updating the menu so it has the buttoms      \n",
    "fig.update_layout(updatemenus=list([\n",
    "    dict(buttons = buttons)]))\n",
    "\n",
    "fig.update_layout(title = 'Social Risk Factors by State',\n",
    "                 height = 540,\n",
    "                 geo_scope = 'usa')\n",
    "fig.show()"
   ]
  },
  {
   "cell_type": "code",
   "execution_count": null,
   "metadata": {},
   "outputs": [],
   "source": [
    "#bar chart of personal health \n",
    "bar_data= ch_clean.copy()\n",
    "\n",
    "#Only want column names after 'County' in drop down\n",
    "columns = list(bar_data.columns)[4:] \n",
    "\n",
    "fig = go.Figure()\n",
    "\n",
    "for col in columns:\n",
    "    fig.add_trace(\n",
    "                go.Bar(x=bar_data.sort_values(\n",
    "                        by= col, ascending = False)['County&State'].head(10),\n",
    "                       y= bar_data.sort_values(\n",
    "                        by= col, ascending = False)[col].head(10), \n",
    "                       visible= False,\n",
    "                       marker_color= 'red'))\n",
    "\n",
    "buttons= []\n",
    "\n",
    "for i in range(len(columns)):\n",
    "    visible = [False]*len(columns)\n",
    "    if i == 0: \n",
    "        visible[i]= True\n",
    "    else:\n",
    "        visible[i] = True\n",
    "        visible[i-1] = False\n",
    "#creating the dropdown menu     \n",
    "    buttons.append(dict(label = columns[i],\n",
    "                        method = 'update',           \n",
    "                        args = [{'visible': visible}]))\n",
    "#updating the menu so it has the buttoms      \n",
    "fig.update_layout(updatemenus=list([\n",
    "    dict(buttons = buttons)]))\n",
    "\n",
    "fig.update_layout(title = 'Top 10 Counties by Personal Health Statistics',\n",
    "                 height = 540)\n",
    "fig.show()"
   ]
  },
  {
   "cell_type": "code",
   "execution_count": null,
   "metadata": {},
   "outputs": [],
   "source": [
    "scc[\"Plan Type\"].value_counts()"
   ]
  },
  {
   "cell_type": "code",
   "execution_count": null,
   "metadata": {},
   "outputs": [],
   "source": [
    "#need to reset index for merge below\n",
    "scc=scc.reset_index()"
   ]
  },
  {
   "cell_type": "code",
   "execution_count": null,
   "metadata": {},
   "outputs": [],
   "source": [
    "dv= scc.merge(mr4[['Contract Number','2021 Overall']],how= 'left', on= 'Contract Number')\n",
    "#only want ints in column '2021 Overall'\n",
    "dv1= dv[(dv['2021 Overall']!='Plan too new to be measured') & (dv['2021 Overall']!= 'Not enough data available')]\n",
    "dv1=dv1.drop_duplicates(subset=['Contract Number', 'County'], keep='first')"
   ]
  },
  {
   "cell_type": "code",
   "execution_count": null,
   "metadata": {},
   "outputs": [],
   "source": [
    "total_by_county= dv1.groupby('FIPS Code').sum().reset_index()\n",
    "dv1= dv1.merge(total_by_county[['FIPS Code', 'Enrolled']], \n",
    "               on= 'FIPS Code', suffixes= ('_plan','_total'))"
   ]
  },
  {
   "cell_type": "code",
   "execution_count": null,
   "metadata": {},
   "outputs": [],
   "source": [
    "dv1['weights']= dv1['Enrolled_plan']/dv1['Enrolled_total']\n",
    "dv1['Weighted Stars']= dv1['weights']*pd.to_numeric(dv1['2021 Overall'])\n",
    "dv2= dv1.groupby('FIPS Code').agg({'County': 'first', 'State': 'first',\n",
    "                                   'Enrolled_plan':'sum', 'Weighted Stars' : 'sum'})\n",
    "ch.rename(columns={'FIPS' :'FIPS Code'}, inplace= True)\n",
    "dv2.reset_index()\n",
    "dv3=dv2.merge(ch, on= 'FIPS Code')"
   ]
  },
  {
   "cell_type": "code",
   "execution_count": null,
   "metadata": {},
   "outputs": [],
   "source": [
    "fig = ff.create_choropleth(\n",
    "    fips=dv3['FIPS Code'], values=dv3['Weighted Stars'],\n",
    "    title='Weighted Stars by County',\n",
    "    legend_title='Weighted Stars',binning_endpoints=list(np.arange(0,5.5,.5)))\n",
    "\n",
    "\n",
    "fig.layout.template= None\n",
    "fig.show()"
   ]
  },
  {
   "cell_type": "code",
   "execution_count": null,
   "metadata": {},
   "outputs": [],
   "source": [
    "fig = ff.create_choropleth(\n",
    "    fips=dv3['FIPS Code'], values=dv3['% Fair or Poor Health'],\n",
    "    title='% Fair or Poor Health by County',\n",
    "    legend_title='% Fair or Poor Health',binning_endpoints=list(np.arange(0,25,.5)))\n",
    "\n",
    "fig.layout.template= None\n",
    "fig.show()"
   ]
  },
  {
   "cell_type": "code",
   "execution_count": null,
   "metadata": {},
   "outputs": [],
   "source": [
    "fig = ff.create_choropleth(\n",
    "    fips=dv3['FIPS Code'], values=dv3['% Uninsured'],\n",
    "    title='% Uninsured by County',\n",
    "    legend_title='% Uninsured',binning_endpoints=list(np.arange(0,35,.5)))\n",
    "\n",
    "fig.layout.template= None\n",
    "fig.show()"
   ]
  },
  {
   "cell_type": "code",
   "execution_count": null,
   "metadata": {},
   "outputs": [],
   "source": [
    "fig = ff.create_choropleth(\n",
    "    fips=dv3['FIPS Code'], values=dv3['% Unemployed'],\n",
    "    title='% Unemployed by County',\n",
    "    legend_title='% Unemployed',binning_endpoints=list(np.arange(0,10,.1)))\n",
    "\n",
    "fig.layout.template= None\n",
    "fig.show()"
   ]
  },
  {
   "cell_type": "markdown",
   "metadata": {},
   "source": [
    "For % fair or poor health, the Choropleth map revealed that the states with the highest percentage of this social risk were states found in the Southeast such as Mississippi at 24.148%, Kentucky at 23.8675%, and West Virginia at 23.8994%. The state with the lowest percent of fair or poor health was Minnesota at 12.1324%. The top 10 counties with the highest % of fair or poor health were from Texas, Mississippi, and Alaska. The highest of which was Zavala, Texas at 40.9907%. For % Uninsured, the state choropleth map showed a trend of states in the Southeast to have the highest percentage. Specifically, Texas had 19.3911% and Georgia had 15.5302%. The states with the lowest percentage of uninsured was Hawaii at 4.6321% and Minnesota at 5.085%. When looking at the county level for percent unemployed  was Gaines, Texas at 33.7496%. For percent unemployed, there was no real recognizable pattern. the state with the highest unemployment was Alsaska at 6.5875% an West Virginia at 5.2556%. The state with the lowest unemployement was Hawaii at 2.4468% and Iowa at 2.5236%. The counties with the highest unemployment percentage was Kusilvak, Alaska at 19.9040% The county chropleth map shows that in general unemployment seems to be around no greater than 4%, but some states such as Arizona and Mississippi seem to have some counties with much higher rates of unemployment. The weighted stars choropleth has more urban counties with a higher weighted stars rating than more urban counties. By selecting \"4.5-5.0\" under the weighted stars legend, you would see that counties around Boston or San Francisco would disappear. If then select \"4.0-4.5\", you will notice that more rural counties disappear and this trend continues as you move down the weighted stars legend.  Most of the counties have stars ratings between 3.0-5.0. Overall, it appears that Texas has the highest percentage of social risk factors and Hawaii has the lowest.  "
   ]
  },
  {
   "cell_type": "markdown",
   "metadata": {},
   "source": [
    "# Assessing the Weighted Stars Score of ACHP members on %Fair or Poor Health,  % Uninsured, and % Unemployed by counties "
   ]
  },
  {
   "cell_type": "markdown",
   "metadata": {},
   "source": [
    "Finally, an assesment was made comparing the Weighted Stars for ACHP members to the social risk factors of %fair or poor health, %uninsured, and %unemployed. County Choropleths were constructed for ACHP member weighted stars and the three social risk factors. bar charts were built to show which ACHP member has the most contracts to offer highly affected social risk counties. The count of ACHP contracts that serve more than 15% fair or poor health, 15% uninsured, and 5% unemployed was calculated to see if any ACHP members are taking on a greater social risk in the health plans they offer. Then each social risk was compared to the weighted stars on a scatter plot to see if there is any correlation between a weighted stars and increase in a specific social risk."
   ]
  },
  {
   "cell_type": "code",
   "execution_count": null,
   "metadata": {},
   "outputs": [],
   "source": [
    "#weighted stars for ACHP plans \n",
    "#takes into account number of people enrolled on each plan \n",
    "DV= scc.merge(ACHP[['Contract Number','2021 Overall']],how= 'left', on= 'Contract Number')\n",
    "#only want ints in column '2021 Overall'\n",
    "DV1= DV[(DV['2021 Overall']!='Plan too new to be measured') & (DV['2021 Overall']!= 'Not enough data available')]\n",
    "DV1=DV1.drop_duplicates(subset=['Contract Number', 'County'], keep='first')"
   ]
  },
  {
   "cell_type": "code",
   "execution_count": null,
   "metadata": {},
   "outputs": [],
   "source": [
    "Total_by_county= DV1.groupby('FIPS Code').sum().reset_index()\n",
    "DV1= DV1.merge(Total_by_county[['FIPS Code', 'Enrolled']], \n",
    "               on= 'FIPS Code', suffixes= ('_plan','_total'))"
   ]
  },
  {
   "cell_type": "code",
   "execution_count": null,
   "metadata": {},
   "outputs": [],
   "source": [
    "#weight created from dividing number of people enrolled by the total number of people enrolled on the plan\n",
    "DV1['weights']= DV1['Enrolled_plan']/DV1['Enrolled_total']\n",
    "DV1['Weighted Stars']= DV1['weights']*pd.to_numeric(DV1['2021 Overall'])\n",
    "DV2= DV1.groupby('FIPS Code').agg({'County': 'first', 'State': 'first',\n",
    "                                   'Enrolled_plan':'sum', 'Weighted Stars' : 'sum'})\n",
    "ch.rename(columns={'FIPS' :'FIPS Code'}, inplace= True)\n",
    "DV2.reset_index()\n",
    "DV3=DV2.merge(ch, on= 'FIPS Code')\n",
    "DV3= DV3.drop(['County_x'], axis=1)"
   ]
  },
  {
   "cell_type": "code",
   "execution_count": null,
   "metadata": {},
   "outputs": [],
   "source": [
    "fig = ff.create_choropleth(\n",
    "    fips=DV3['FIPS Code'], values=DV3['Weighted Stars'],\n",
    "    title='Weighted Stars by County for ACHP Plans',\n",
    "    legend_title='Weighted Stars',binning_endpoints=list(np.arange(0.0,5.5,.5)))\n",
    "fig.layout.template= None\n",
    "fig.show()"
   ]
  },
  {
   "cell_type": "code",
   "execution_count": null,
   "metadata": {},
   "outputs": [],
   "source": [
    "WS= ACHP[['County','State','Rollup', 'Enrolled']].merge(DV3, how='left',left_on='County', right_on= 'County_y')\n",
    "WS['>15 Poor Health']= WS[WS['% Fair or Poor Health']>15]['% Fair or Poor Health']\n",
    "WS= WS[WS['Weighted Stars']!=0]\n",
    "WS1=WS.copy()"
   ]
  },
  {
   "cell_type": "code",
   "execution_count": null,
   "metadata": {},
   "outputs": [],
   "source": [
    "WS1=WS.groupby(\"Rollup\", as_index=False).agg({'>15 Poor Health' : 'count'})\n",
    "fig = go.Figure()\n",
    "fig.add_trace( go.Bar(x= WS1.sort_values(by ='>15 Poor Health', ascending=False)['Rollup'], \n",
    "    y= WS1.sort_values(by ='>15 Poor Health', ascending=False)['>15 Poor Health'],marker_color= 'Purple'))\n",
    "fig.update_layout(title = 'Count of ACHP Contracts with Greater than 15% Fair or Poor Health', height = 540)\n",
    "fig.update_xaxes(title_text = \"ACHP Members\")\n",
    "fig.update_yaxes(title_text = \"Count of Contracts\")"
   ]
  },
  {
   "cell_type": "code",
   "execution_count": null,
   "metadata": {},
   "outputs": [],
   "source": [
    "fig = go.Figure(data=go.Scatter(x=WS['% Fair or Poor Health'],\n",
    "                                y=WS['Weighted Stars'],\n",
    "                                mode='markers',\n",
    "                                text=WS['Rollup'],\n",
    "                                marker_color= 'purple'))\n",
    "fig.update_layout(title = 'ACHP Weighted Stars vs.% Fair or Poor Health', height = 540)\n",
    "fig.update_xaxes(title_text = \"% Fair or Poor Health\")\n",
    "fig.update_yaxes(title_text = \"Weigthed Stars\")\n",
    "fig.show()"
   ]
  },
  {
   "cell_type": "code",
   "execution_count": null,
   "metadata": {},
   "outputs": [],
   "source": [
    "# correlation between Weighted Stars and % Fair or Poor Health \n",
    "WS['% Fair or Poor Health'].corr(WS['Weighted Stars'])"
   ]
  },
  {
   "cell_type": "code",
   "execution_count": null,
   "metadata": {},
   "outputs": [],
   "source": [
    "WS= ACHP[['County','State','Rollup', 'Enrolled']].merge(DV3, how='left',left_on='County', right_on= 'County_y')\n",
    "WS['>15 Uninsured']= WS[WS['% Uninsured']>15]['% Uninsured']\n",
    "WS= WS[WS['Weighted Stars']!=0]\n",
    "WS2=WS.copy()"
   ]
  },
  {
   "cell_type": "code",
   "execution_count": null,
   "metadata": {},
   "outputs": [],
   "source": [
    "WS2=WS.groupby(\"Rollup\", as_index=False).agg({'>15 Uninsured' : 'count'})\n",
    "fig = go.Figure()\n",
    "fig.add_trace( go.Bar(x= WS2.sort_values(by ='>15 Uninsured', ascending=False)['Rollup'], \n",
    "    y= WS2.sort_values(by ='>15 Uninsured', ascending=False)['>15 Uninsured'],marker_color= 'purple'))\n",
    "fig.update_layout(title = 'ACHP Contracts who Serve Greater than 15% Uninsured', height = 540)\n",
    "fig.update_xaxes(title_text = \"ACHP Members\")\n",
    "fig.update_yaxes(title_text = \"Count of Contracts\")"
   ]
  },
  {
   "cell_type": "code",
   "execution_count": null,
   "metadata": {},
   "outputs": [],
   "source": [
    "fig = go.Figure(data=go.Scatter(x=WS['% Uninsured'],\n",
    "                                y=WS['Weighted Stars'],\n",
    "                                mode='markers',\n",
    "                                text=WS['Rollup'],\n",
    "                                marker_color= 'purple'))\n",
    "fig.update_layout(title = 'ACHP Weighted Stars vs.% Uninsured', height = 540)\n",
    "fig.update_xaxes(title_text = \"% Uninsured\")\n",
    "fig.update_yaxes(title_text = \"Weigthed Stars\")\n",
    "fig.show()"
   ]
  },
  {
   "cell_type": "code",
   "execution_count": null,
   "metadata": {},
   "outputs": [],
   "source": [
    "# correlation between Weighted Stars and % uninsured\n",
    "WS['% Uninsured'].corr(WS['Weighted Stars'])"
   ]
  },
  {
   "cell_type": "code",
   "execution_count": null,
   "metadata": {},
   "outputs": [],
   "source": [
    "WS= ACHP[['County','State','Rollup', 'Enrolled']].merge(DV3, how='left',left_on='County', right_on= 'County_y')\n",
    "WS['>5 Unemployed']= WS[WS['% Unemployed']>5]['% Unemployed']\n",
    "WS= WS[WS['Weighted Stars']!=0]\n",
    "WS3=WS.copy()"
   ]
  },
  {
   "cell_type": "code",
   "execution_count": null,
   "metadata": {},
   "outputs": [],
   "source": [
    "WS3=WS.groupby(\"Rollup\", as_index=False).agg({'>5 Unemployed' : 'count'})\n",
    "fig = go.Figure()\n",
    "fig.add_trace( go.Bar(x= WS3.sort_values(by ='>5 Unemployed', ascending=False)['Rollup'], \n",
    "    y= WS3.sort_values(by ='>5 Unemployed', ascending=False)['>5 Unemployed'], marker_color= 'purple'))\n",
    "fig.update_layout(title = 'ACHP Contracts that Serve Greater than 5% Unemployed', height = 540)\n",
    "fig.update_xaxes(title_text = \"ACHP Members\")\n",
    "fig.update_yaxes(title_text = \"Count of Contracts\")"
   ]
  },
  {
   "cell_type": "code",
   "execution_count": null,
   "metadata": {},
   "outputs": [],
   "source": [
    "fig = go.Figure(data=go.Scatter(x=WS['% Unemployed'],\n",
    "                                y=WS['Weighted Stars'],\n",
    "                                mode='markers',\n",
    "                                text=WS['Rollup'],\n",
    "                                marker_color= 'purple'))\n",
    "fig.update_layout(title = 'ACHP Weighted Stars vs.% Unemployed', height = 540)\n",
    "fig.update_xaxes(title_text = \"% Unemployed\")\n",
    "fig.update_yaxes(title_text = \"Weigthed Stars\")\n",
    "fig.show()"
   ]
  },
  {
   "cell_type": "code",
   "execution_count": null,
   "metadata": {},
   "outputs": [],
   "source": [
    "# correlation between Weighted Stars and % unemployed\n",
    "WS['% Unemployed'].corr(WS['Weighted Stars'])"
   ]
  },
  {
   "cell_type": "markdown",
   "metadata": {},
   "source": [
    "# Conclusion"
   ]
  },
  {
   "cell_type": "markdown",
   "metadata": {},
   "source": [
    "The weighted stars by county choropleth showed that ACHP members are mostly active on the west coast (California, Oregon, and Washington), North central( Minnesota and Wisconsin) and the Northeast(New England states and Pennsylvania). It appears that ACHP members are focusing more plans of nmetropolitan areas. For example, in texas, it appears that only the wider Dallas area has plans while the more rural counties do not. When looking at the count of ACHP member plans that serve more than 15% fair or poor health, UPMC has the most at seven, kaiser at six, Security at four, and Health Alliance at four. the scatter plot shows a weak to no correlation between % fair or poor health and weighted stars. the correlation value is 0.0553. Most of the wieghted stars can be found between 12 and 18% fair or poor health. For the count of ACHP member plans that have greater than 15% uninsured, Indendent has three, Communitycare has two, and Avmed, Kaiser, and Aultcare have one. The scatter plot shows a weak correlation between % uninsured and weighted ACHP member stars. Most of the ACHP contracts can be found between five and 10 percent uninsured.For the bar chart of count of ACHP member plans that serve areas greater than 5%, UPMC has five, Healthparters, Ucare, and Kaiser have three and Security has two. The scatterplot has a slightly higher correlation than the other risk factors at 0.1415 and most of the ACHP contracts can be found between three and five percent unemployed. \n",
    "\n",
    "Overall, the ACHP member plan who is servicing the most areas that have high social risk factors is Kaiser followed by HealthAlliance and Independent. Kaiser also has the highest 2021 Overall Stars rating, most quality scores that are either 4s or 5s, and the most health contracts of any ACHP member. The member plans that are not focusing on high social risk areas are CDPHD, Martinspoint, PacificSource, Fallon, and HarvardPilgrim. However, CDPHP and Martin's point did have a high star rating for their 2021 Overall quality measure Since the weighted stars has such a low correlation to social risk factors and the choropleth map showed a focus of ACHP member plans in metropolitian areas, It may be of useful to include percent of urban or rural in the weighted stars in a future analysis.  \n",
    "\n",
    "[Jake's Zenodo](https://zenodo.org/record/4323129)\n",
    "\n",
    "[Jake's github](https://github.com/Jcolt2997/DATS-6103-Individual-Project-3-Jake-Lieberfarb)\n",
    "\n",
    "[Jake's github.io](https://jcolt2997.github.io/DATS-6103-Individual-Project-3-Jake-Lieberfarb-githubio/)"
   ]
  },
  {
   "cell_type": "code",
   "execution_count": null,
   "metadata": {},
   "outputs": [],
   "source": []
  }
 ],
 "metadata": {
  "kernelspec": {
   "display_name": "Python 3",
   "language": "python",
   "name": "python3"
  },
  "language_info": {
   "codemirror_mode": {
    "name": "ipython",
    "version": 3
   },
   "file_extension": ".py",
   "mimetype": "text/x-python",
   "name": "python",
   "nbconvert_exporter": "python",
   "pygments_lexer": "ipython3",
   "version": "3.7.3"
  }
 },
 "nbformat": 4,
 "nbformat_minor": 2
}
